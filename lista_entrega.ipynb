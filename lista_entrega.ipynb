{
  "nbformat": 4,
  "nbformat_minor": 0,
  "metadata": {
    "colab": {
      "provenance": [],
      "authorship_tag": "ABX9TyNrKoYCmP8BEsj9ROAH+p9N",
      "include_colab_link": true
    },
    "kernelspec": {
      "name": "python3",
      "display_name": "Python 3"
    },
    "language_info": {
      "name": "python"
    }
  },
  "cells": [
    {
      "cell_type": "markdown",
      "metadata": {
        "id": "view-in-github",
        "colab_type": "text"
      },
      "source": [
        "<a href=\"https://colab.research.google.com/github/josevitor676/lista_01/blob/main/lista_entrega.ipynb\" target=\"_parent\"><img src=\"https://colab.research.google.com/assets/colab-badge.svg\" alt=\"Open In Colab\"/></a>"
      ]
    },
    {
      "cell_type": "markdown",
      "source": [
        "\n",
        "#Lista de Exercicio Avaliativa "
      ],
      "metadata": {
        "id": "8yC_Z5MpIH2r"
      }
    },
    {
      "cell_type": "markdown",
      "source": [
        "#Exercicio 1\n",
        "####Escreva um programa que recebe três números e retorna a soma deles, porém se\n",
        "####houver números repetidos o valor deles não é contabilizado. Por exemplo, na\n",
        "####entrada (1,2,3) a resposta é 6, na entrada (3,2,3) a resposta é 2 e na entrada\n",
        "####(3,3,3) a resposta é 0. Evite testes desnecessários"
      ],
      "metadata": {
        "id": "Diex94beIZBD"
      }
    },
    {
      "cell_type": "code",
      "execution_count": null,
      "metadata": {
        "id": "fYjq2HTqG6ht"
      },
      "outputs": [],
      "source": [
        "arrayNum = []\n",
        "\n",
        "try:\n",
        "  numero1 = int(input(\"Digite um número \"))\n",
        "  numero2 = int(input(\"Digite um número \"))\n",
        "  numero3 = int(input(\"Digite um número \"))\n",
        "  arrayNum.append(numero1)\n",
        "  arrayNum.append(numero2)\n",
        "  arrayNum.append(numero3)\n",
        "  if arrayNum[0] != arrayNum[1] and arrayNum[0] != arrayNum[2] and arrayNum[1] != arrayNum[2]: \n",
        "    print(f'{arrayNum[0] + arrayNum[1] + arrayNum[2]}')\n",
        "  elif arrayNum[0] == arrayNum[1]:\n",
        "    print(f'{arrayNum[2]}')\n",
        "  elif arrayNum[1] == arrayNum[2]:\n",
        "    print(f'{arrayNum[0]}')\n",
        "  elif arrayNum[0] == arrayNum[2]:\n",
        "    print(f'{arrayNum[1]}')\n",
        "  elif arrayNum[0] == arrayNum[1] == arrayNum[2]:\n",
        "    print(f'A soma é 0')\n",
        "\n",
        "except ValueError:\n",
        "  print(f'Erro!!!')  \n"
      ]
    },
    {
      "cell_type": "markdown",
      "source": [
        "#Exercecicio 2\n",
        "\n",
        "####Desenvolva um gerador de tabuada, capaz de gerar a tabuada de qualquer\n",
        "####número inteiro entre 1 a 10. O usuário deve informar de qual número ele deseja\n",
        "####ver a tabuada. A saída deve ser conforme o exemplo abaixo:"
      ],
      "metadata": {
        "id": "rA-rOEMGIrfN"
      }
    },
    {
      "cell_type": "code",
      "source": [
        "try:\n",
        "  numero = int(input(\"Digite um numero \"))\n",
        "  resultado = 0 \n",
        "  print(f'Tabuada do {numero}')\n",
        "  for y in range(11):\n",
        "    resultado = numero * y\n",
        "    print(f'{numero} x {y} = {resultado}')\n",
        "except ValueError:\n",
        "  print(f'Erro isso não é um número')\n",
        "\n",
        "  \n"
      ],
      "metadata": {
        "id": "L9GM79_LI47k"
      },
      "execution_count": null,
      "outputs": []
    },
    {
      "cell_type": "markdown",
      "source": [
        "#Exercicio 3\n",
        "\n",
        "#####O Sr. Manoel Joaquim expandiu seus negócios para além dos negócios de 1,99 e\n",
        "#####agora possui uma loja de conveniências. Faça um programa que implemente uma\n",
        "#####caixa registradora rudimentar. O programa deverá receber um número\n",
        "#####desconhecido de valores referentes aos preços das mercadorias. Um valor zero\n",
        "#####deve ser informado pelo operador para indicar o final da compra. O programa\n",
        "#####deve então mostrar o total da compra e perguntar o valor em dinheiro que o\n",
        "#####cliente forneceu, para então calcular e mostrar o valor do troco. Após esta\n",
        "#####operação, o programa deverá voltar ao ponto inicial, para registrar a próxima\n",
        "#####compra. A saída deve ser conforme o exemplo abaixo:"
      ],
      "metadata": {
        "id": "cl6EkS6aI5Zm"
      }
    },
    {
      "cell_type": "code",
      "source": [
        "\n",
        "carrinho = []\n",
        "total = 0\n",
        "while True:\n",
        "  try:\n",
        "    num = int(input(''))\n",
        "    carrinho.append(num)\n",
        "    if carrinho[0] == 0: \n",
        "      print('Compra Finalizada')\n",
        "      break\n",
        "    if num == 0:\n",
        "      carrinho.remove(0)\n",
        "      for i in carrinho:\n",
        "        idx = carrinho.index(i)\n",
        "        idx += 1\n",
        "        print(f' Produto {idx}: R$ {i} ') \n",
        "        total += i \n",
        "      print(f' Valor Total da Compra: {total} ')  \n",
        "      x = int(input(\" Dinheiro \"))\n",
        "      troco = x - total\n",
        "      if troco <= 0:\n",
        "        print(f'O total da compra foi R$ {total} você pagou R${x} você ainda esta devendo R$ {troco}')\n",
        "        break\n",
        "      print(f' Troco: {troco}')\n",
        "      break\n",
        "  except ValueError:\n",
        "    print(f'Erro!!')"
      ],
      "metadata": {
        "id": "4fdIKiZPJqS8"
      },
      "execution_count": null,
      "outputs": []
    },
    {
      "cell_type": "code",
      "source": [
        "print(\"##########################################\")\n",
        "print(\"##########################################\")\n",
        "print(\"############     MENU       ###############\")\n",
        "print(\"##########################################\")\n",
        "print(\"##########################################\")\n",
        "\n",
        "\n",
        "print(\" 1 -  para inserir um novo produto\")\n",
        "print(\" 0 -  para encerrar a compra\")\n",
        "\n",
        "x = input()\n",
        "\n"
      ],
      "metadata": {
        "id": "gAQdn3wMalVd"
      },
      "execution_count": null,
      "outputs": []
    },
    {
      "cell_type": "markdown",
      "source": [
        "#Exercicio 4\n",
        "\n",
        "#####Faça um programa para um caixa eletrônico. O programa deverá perguntar ao\n",
        "#####usuário o valor do saque e depois informar quantas notas de cada valor serão\n",
        "#####fornecidas. As notas disponíveis serão as de 1, 5, 10, 50 e 100 reais. O valor\n",
        "#####mínimo é de 10 reais e o máximo de 600 reais. O programa não deve se\n",
        "#####preocupar com a quantidade de notas existentes na máquina.\n",
        "#####Exemplo 1: Para sacar a quantia de 256 reais, o programa fornece duas notas de\n",
        "#####100, uma nota de 50, uma nota de 5 e uma nota de 1;\n",
        "#####Exemplo 2: Para sacar a quantia de 399 reais, o programa fornece três notas de\n",
        "#####100, uma nota de 50, quatro notas de 10, uma nota de 5 e quatro notas de 1."
      ],
      "metadata": {
        "id": "tIUrw77DJyQG"
      }
    },
    {
      "cell_type": "code",
      "source": [],
      "metadata": {
        "id": "R3YDphO_J_69"
      },
      "execution_count": null,
      "outputs": []
    }
  ]
}